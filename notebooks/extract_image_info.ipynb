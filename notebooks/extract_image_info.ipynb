{
 "cells": [
  {
   "cell_type": "code",
   "execution_count": 13,
   "metadata": {},
   "outputs": [],
   "source": [
    "import os\n",
    "import glob\n",
    "from pathlib import Path\n",
    "from scripts.extract import process_img, get_file_id\n",
    "from scripts.mapIndex import bulk_index"
   ]
  },
  {
   "cell_type": "code",
   "execution_count": null,
   "metadata": {},
   "outputs": [],
   "source": [
    "# extract from image\n",
    "model = \"claude-3-7-sonnet-20250219\" # or replace with other model\n",
    "api_key = os.getenv(\"API_KEY\") # or replace with a str api_key\n",
    "\n",
    "book_number = 1\n",
    "input_dir = Path(f\"/projectnb/sparkgrp/mass-sec-state-deeds-data/1720-1780/{book_number}\") # replace with path to your image folder\n",
    "output_dir = f\"/projectnb/sparkgrp/dd4g-reg-of-deeds/Carrie/Storage/{book_number}\" # replace with path to your output folder\n",
    "os.makedirs(output_dir, exist_ok=True)\n",
    "\n",
    "# Get list of already processed files to avoid reprocessing\n",
    "processed_files = set()\n",
    "for json_path in glob.glob(f\"{output_dir}/*.json\"):\n",
    "    file_id = os.path.basename(json_path).replace('.json', '')\n",
    "    processed_files.add(file_id)\n",
    "print(f\"Found {len(processed_files)} already processed files\")\n",
    "\n",
    "# Extract the information from images\n",
    "for tif_path in input_dir.glob('*.TIF'):\n",
    "    try:\n",
    "        file_id = get_file_id(tif_path)\n",
    "        if file_id in processed_files:\n",
    "            continue\n",
    "            \n",
    "        process_img(tif_path, output_dir, model, api_key)\n",
    "        processed_files.add(file_id)  # Add to processed set\n",
    "    except Exception as e:\n",
    "        print(f\"Error processing {tif_path.name}: {str(e)}\")\n",
    "\n",
    "print(\"Done.\")"
   ]
  },
  {
   "cell_type": "code",
   "execution_count": null,
   "metadata": {},
   "outputs": [
    {
     "name": "stdout",
     "output_type": "stream",
     "text": [
      "JSON saved in: sample-output/000001-0001.json\n"
     ]
    }
   ],
   "source": [
    "# sample output from book 1, first deed:\n",
    "process_img('../dataset/sample-images/000001-0001.TIF', 'sample-output/', api_key)"
   ]
  },
  {
   "cell_type": "code",
   "execution_count": null,
   "metadata": {},
   "outputs": [
    {
     "name": "stdout",
     "output_type": "stream",
     "text": [
      "Connected to Elasticsearch successfully!\n",
      "Index 'land_deeds' already exists.\n",
      "Data indexed successfully!\n"
     ]
    }
   ],
   "source": [
    "# bulk index from csv file into elasticsearch cloud\n",
    "cloud_id = os.getenv(\"CLOUD_ID\")\n",
    "api_key = os.getenv(\"ELASTIC_API_KEY\")\n",
    "index_name = \"land_deeds\"\n",
    "csv_path = \"../dataset/sample-output/land_deeds_data.csv\"\n",
    "\n",
    "bulk_index(cloud_id, api_key, index_name, csv_path)"
   ]
  },
  {
   "cell_type": "code",
   "execution_count": null,
   "metadata": {},
   "outputs": [],
   "source": [
    "# run the demo search\n",
    "%cd scripts\n",
    "!streamlit run app.py\n",
    "# demo at 'https://huggingface.co/spaces/carrief0908/LandDeeds'"
   ]
  }
 ],
 "metadata": {
  "kernelspec": {
   "display_name": "cq1",
   "language": "python",
   "name": "python3"
  },
  "language_info": {
   "codemirror_mode": {
    "name": "ipython",
    "version": 3
   },
   "file_extension": ".py",
   "mimetype": "text/x-python",
   "name": "python",
   "nbconvert_exporter": "python",
   "pygments_lexer": "ipython3",
   "version": "3.9.16"
  }
 },
 "nbformat": 4,
 "nbformat_minor": 2
}
